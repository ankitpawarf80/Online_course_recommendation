{
 "cells": [
  {
   "cell_type": "markdown",
   "id": "592de6bf",
   "metadata": {},
   "source": [
    "# Online Courses Recommendation Model"
   ]
  },
  {
   "cell_type": "code",
   "execution_count": 1,
   "id": "31f8c300",
   "metadata": {},
   "outputs": [],
   "source": [
    "import numpy as np # linear algebra\n",
    "import pandas as pd # data processing, CSV file I/O (e.g. pd.read_csv)\n",
    "import matplotlib.pyplot as plt"
   ]
  },
  {
   "cell_type": "code",
   "execution_count": 2,
   "id": "ced93d4a",
   "metadata": {},
   "outputs": [],
   "source": [
    "df = pd.read_excel(\"Online Course Preferences (Responses).xlsx\")"
   ]
  },
  {
   "cell_type": "code",
   "execution_count": 3,
   "id": "73f562c2",
   "metadata": {},
   "outputs": [
    {
     "name": "stdout",
     "output_type": "stream",
     "text": [
      "<class 'pandas.core.frame.DataFrame'>\n",
      "RangeIndex: 102 entries, 0 to 101\n",
      "Data columns (total 13 columns):\n",
      " #   Column                                 Non-Null Count  Dtype \n",
      "---  ------                                 --------------  ----- \n",
      " 0   Highest Qualification                  102 non-null    object\n",
      " 1   Field/Background                       102 non-null    object\n",
      " 2   Reason for taking an online course     102 non-null    object\n",
      " 3   Preferred Mode of Course               102 non-null    object\n",
      " 4   Preferred Course Duration (in hours)   102 non-null    object\n",
      " 5   Preferred Price (in Rs)                102 non-null    object\n",
      " 6   Preferred Course Level                 102 non-null    object\n",
      " 7   Preferred Course Type                  102 non-null    object\n",
      " 8   Preferred Certification Type           102 non-null    object\n",
      " 9   Preferred Mentorship/ 1:1 Interaction  102 non-null    object\n",
      " 10  Preferred Validity of Course Content   102 non-null    object\n",
      " 11  Preferred Course Training Type         102 non-null    object\n",
      " 12  Which type of courses do you like?     102 non-null    object\n",
      "dtypes: object(13)\n",
      "memory usage: 10.5+ KB\n"
     ]
    }
   ],
   "source": [
    "df.info()"
   ]
  },
  {
   "cell_type": "code",
   "execution_count": 4,
   "id": "2486d2f1",
   "metadata": {
    "scrolled": true
   },
   "outputs": [
    {
     "data": {
      "text/plain": [
       "Index(['Highest Qualification', 'Field/Background',\n",
       "       'Reason for taking an online course', 'Preferred Mode of Course',\n",
       "       'Preferred Course Duration (in hours)', 'Preferred Price (in Rs)',\n",
       "       'Preferred Course Level', 'Preferred Course Type',\n",
       "       'Preferred Certification Type', 'Preferred Mentorship/ 1:1 Interaction',\n",
       "       'Preferred Validity of Course Content',\n",
       "       'Preferred Course Training Type', 'Which type of courses do you like?'],\n",
       "      dtype='object')"
      ]
     },
     "execution_count": 4,
     "metadata": {},
     "output_type": "execute_result"
    }
   ],
   "source": [
    "df.columns"
   ]
  },
  {
   "cell_type": "code",
   "execution_count": 5,
   "id": "fbabd6f4",
   "metadata": {
    "scrolled": true
   },
   "outputs": [
    {
     "data": {
      "text/plain": [
       "array(['500 to 1500', '3000 to 5000', '< 500', '1500 to 3000',\n",
       "       '5000 to 10000', '10000+'], dtype=object)"
      ]
     },
     "execution_count": 5,
     "metadata": {},
     "output_type": "execute_result"
    }
   ],
   "source": [
    "df['Preferred Price (in Rs)'].unique()"
   ]
  },
  {
   "cell_type": "code",
   "execution_count": 6,
   "id": "9c76fc97",
   "metadata": {},
   "outputs": [
    {
     "data": {
      "text/plain": [
       "(300, 13)"
      ]
     },
     "execution_count": 6,
     "metadata": {},
     "output_type": "execute_result"
    }
   ],
   "source": [
    "from sklearn.utils import resample\n",
    "from sklearn.utils import shuffle\n",
    "\n",
    "df_s1=df[df['Preferred Price (in Rs)']=='500 to 1500']\n",
    "df_s2=df[df['Preferred Price (in Rs)']=='3000 to 5000']\n",
    "df_s3=df[df['Preferred Price (in Rs)']=='< 500']\n",
    "df_s4=df[df['Preferred Price (in Rs)']=='1500 to 3000']\n",
    "df_s5=df[df['Preferred Price (in Rs)']=='5000 to 10000']\n",
    "df_s6=df[df['Preferred Price (in Rs)']=='10000+']\n",
    "df_s1_upsampled=resample(df_s1,replace=True, n_samples=50)\n",
    "df_s2_upsampled=resample(df_s2,replace=True, n_samples=50)\n",
    "df_s3_upsampled=resample(df_s3,replace=True, n_samples=50)\n",
    "df_s4_upsampled=resample(df_s4,replace=True, n_samples=50)\n",
    "df_s5_upsampled=resample(df_s5,replace=True, n_samples=50)\n",
    "df_s6_upsampled=resample(df_s6,replace=True, n_samples=50)\n",
    "\n",
    "df_s_combined=pd.concat([df_s1_upsampled,df_s2_upsampled,df_s3_upsampled,df_s4_upsampled,df_s5_upsampled,df_s6_upsampled])\n",
    "\n",
    "df_new=shuffle(df_s_combined)\n",
    "\n",
    "df_new.shape"
   ]
  },
  {
   "cell_type": "code",
   "execution_count": 9,
   "id": "d2ad5ec0",
   "metadata": {},
   "outputs": [],
   "source": [
    "X = df_new.drop(columns=['Highest Qualification', 'Field/Background','Preferred Price (in Rs)'])"
   ]
  },
  {
   "cell_type": "code",
   "execution_count": 10,
   "id": "0f6d2459",
   "metadata": {},
   "outputs": [],
   "source": [
    "y=df_new['Preferred Price (in Rs)']"
   ]
  },
  {
   "cell_type": "code",
   "execution_count": 11,
   "id": "7cb78a50",
   "metadata": {},
   "outputs": [
    {
     "data": {
      "text/html": [
       "<div>\n",
       "<style scoped>\n",
       "    .dataframe tbody tr th:only-of-type {\n",
       "        vertical-align: middle;\n",
       "    }\n",
       "\n",
       "    .dataframe tbody tr th {\n",
       "        vertical-align: top;\n",
       "    }\n",
       "\n",
       "    .dataframe thead th {\n",
       "        text-align: right;\n",
       "    }\n",
       "</style>\n",
       "<table border=\"1\" class=\"dataframe\">\n",
       "  <thead>\n",
       "    <tr style=\"text-align: right;\">\n",
       "      <th></th>\n",
       "      <th>Reason for taking an online course</th>\n",
       "      <th>Preferred Mode of Course</th>\n",
       "      <th>Preferred Course Duration (in hours)</th>\n",
       "      <th>Preferred Course Level</th>\n",
       "      <th>Preferred Course Type</th>\n",
       "      <th>Preferred Certification Type</th>\n",
       "      <th>Preferred Mentorship/ 1:1 Interaction</th>\n",
       "      <th>Preferred Validity of Course Content</th>\n",
       "      <th>Preferred Course Training Type</th>\n",
       "      <th>Which type of courses do you like?</th>\n",
       "    </tr>\n",
       "  </thead>\n",
       "  <tbody>\n",
       "    <tr>\n",
       "      <th>17</th>\n",
       "      <td>Placement</td>\n",
       "      <td>Offline</td>\n",
       "      <td>6 to 15 hours</td>\n",
       "      <td>Beginner</td>\n",
       "      <td>Course + Internship</td>\n",
       "      <td>Certified Professional Course</td>\n",
       "      <td>Yes</td>\n",
       "      <td>Lifetime</td>\n",
       "      <td>Live + Recorded</td>\n",
       "      <td>Paid course with free demo sessions</td>\n",
       "    </tr>\n",
       "    <tr>\n",
       "      <th>44</th>\n",
       "      <td>Certificate, Interest in subject, Need for skill</td>\n",
       "      <td>Online</td>\n",
       "      <td>26 to 35 hours</td>\n",
       "      <td>Intermediate</td>\n",
       "      <td>Course + Capstone Project</td>\n",
       "      <td>Certified Professional Course</td>\n",
       "      <td>Yes</td>\n",
       "      <td>Limited Time</td>\n",
       "      <td>Live + Recorded</td>\n",
       "      <td>Paid course with free demo sessions</td>\n",
       "    </tr>\n",
       "    <tr>\n",
       "      <th>100</th>\n",
       "      <td>Internship, Interest in subject, Need for skill</td>\n",
       "      <td>Online</td>\n",
       "      <td>6 to 15 hours</td>\n",
       "      <td>Beginner</td>\n",
       "      <td>Course + Capstone Project + Internship</td>\n",
       "      <td>Certified Professional Course</td>\n",
       "      <td>Yes</td>\n",
       "      <td>Lifetime</td>\n",
       "      <td>Live + Recorded</td>\n",
       "      <td>Paid course with free demo sessions</td>\n",
       "    </tr>\n",
       "    <tr>\n",
       "      <th>17</th>\n",
       "      <td>Placement</td>\n",
       "      <td>Offline</td>\n",
       "      <td>6 to 15 hours</td>\n",
       "      <td>Beginner</td>\n",
       "      <td>Course + Internship</td>\n",
       "      <td>Certified Professional Course</td>\n",
       "      <td>Yes</td>\n",
       "      <td>Lifetime</td>\n",
       "      <td>Live + Recorded</td>\n",
       "      <td>Paid course with free demo sessions</td>\n",
       "    </tr>\n",
       "    <tr>\n",
       "      <th>30</th>\n",
       "      <td>Need for skill</td>\n",
       "      <td>Online</td>\n",
       "      <td>26 to 35 hours</td>\n",
       "      <td>Intermediate</td>\n",
       "      <td>Course + Internship</td>\n",
       "      <td>Certified Professional Course</td>\n",
       "      <td>Yes</td>\n",
       "      <td>Lifetime</td>\n",
       "      <td>Live + Recorded</td>\n",
       "      <td>Paid course with free demo sessions</td>\n",
       "    </tr>\n",
       "    <tr>\n",
       "      <th>...</th>\n",
       "      <td>...</td>\n",
       "      <td>...</td>\n",
       "      <td>...</td>\n",
       "      <td>...</td>\n",
       "      <td>...</td>\n",
       "      <td>...</td>\n",
       "      <td>...</td>\n",
       "      <td>...</td>\n",
       "      <td>...</td>\n",
       "      <td>...</td>\n",
       "    </tr>\n",
       "    <tr>\n",
       "      <th>26</th>\n",
       "      <td>Interest in subject, Need for skill</td>\n",
       "      <td>Online</td>\n",
       "      <td>26 to 35 hours</td>\n",
       "      <td>Beginner</td>\n",
       "      <td>Only Course</td>\n",
       "      <td>Course Completion Certification</td>\n",
       "      <td>No</td>\n",
       "      <td>Limited Time</td>\n",
       "      <td>Recorded</td>\n",
       "      <td>Paid course with free demo sessions</td>\n",
       "    </tr>\n",
       "    <tr>\n",
       "      <th>99</th>\n",
       "      <td>CV Point, Interest in subject, Need for skill</td>\n",
       "      <td>Online</td>\n",
       "      <td>35+ hours</td>\n",
       "      <td>Intermediate</td>\n",
       "      <td>Course + Capstone Project</td>\n",
       "      <td>Certified Professional Course</td>\n",
       "      <td>No</td>\n",
       "      <td>Lifetime</td>\n",
       "      <td>Recorded</td>\n",
       "      <td>Paid course with free demo sessions</td>\n",
       "    </tr>\n",
       "    <tr>\n",
       "      <th>51</th>\n",
       "      <td>Certificate, CV Point, Internship, Need for skill</td>\n",
       "      <td>Online</td>\n",
       "      <td>6 to 15 hours</td>\n",
       "      <td>Beginner</td>\n",
       "      <td>Course + Capstone Project + Internship</td>\n",
       "      <td>Certified Professional Course</td>\n",
       "      <td>Yes</td>\n",
       "      <td>Lifetime</td>\n",
       "      <td>Live</td>\n",
       "      <td>Paid course with free demo sessions</td>\n",
       "    </tr>\n",
       "    <tr>\n",
       "      <th>17</th>\n",
       "      <td>Placement</td>\n",
       "      <td>Offline</td>\n",
       "      <td>6 to 15 hours</td>\n",
       "      <td>Beginner</td>\n",
       "      <td>Course + Internship</td>\n",
       "      <td>Certified Professional Course</td>\n",
       "      <td>Yes</td>\n",
       "      <td>Lifetime</td>\n",
       "      <td>Live + Recorded</td>\n",
       "      <td>Paid course with free demo sessions</td>\n",
       "    </tr>\n",
       "    <tr>\n",
       "      <th>72</th>\n",
       "      <td>Certificate, CV Point</td>\n",
       "      <td>Online</td>\n",
       "      <td>&lt; 5 hours</td>\n",
       "      <td>Intermediate</td>\n",
       "      <td>Course + Capstone Project + Internship</td>\n",
       "      <td>Certified Professional Course</td>\n",
       "      <td>Yes</td>\n",
       "      <td>Lifetime</td>\n",
       "      <td>Live + Recorded</td>\n",
       "      <td>Paid course with free demo sessions</td>\n",
       "    </tr>\n",
       "  </tbody>\n",
       "</table>\n",
       "<p>300 rows × 10 columns</p>\n",
       "</div>"
      ],
      "text/plain": [
       "                    Reason for taking an online course  \\\n",
       "17                                           Placement   \n",
       "44    Certificate, Interest in subject, Need for skill   \n",
       "100    Internship, Interest in subject, Need for skill   \n",
       "17                                           Placement   \n",
       "30                                      Need for skill   \n",
       "..                                                 ...   \n",
       "26                 Interest in subject, Need for skill   \n",
       "99       CV Point, Interest in subject, Need for skill   \n",
       "51   Certificate, CV Point, Internship, Need for skill   \n",
       "17                                           Placement   \n",
       "72                               Certificate, CV Point   \n",
       "\n",
       "    Preferred Mode of Course Preferred Course Duration (in hours)  \\\n",
       "17                   Offline                        6 to 15 hours   \n",
       "44                    Online                       26 to 35 hours   \n",
       "100                   Online                        6 to 15 hours   \n",
       "17                   Offline                        6 to 15 hours   \n",
       "30                    Online                       26 to 35 hours   \n",
       "..                       ...                                  ...   \n",
       "26                    Online                       26 to 35 hours   \n",
       "99                    Online                            35+ hours   \n",
       "51                    Online                        6 to 15 hours   \n",
       "17                   Offline                        6 to 15 hours   \n",
       "72                    Online                            < 5 hours   \n",
       "\n",
       "    Preferred Course Level                   Preferred Course Type  \\\n",
       "17                Beginner                     Course + Internship   \n",
       "44            Intermediate               Course + Capstone Project   \n",
       "100               Beginner  Course + Capstone Project + Internship   \n",
       "17                Beginner                     Course + Internship   \n",
       "30            Intermediate                     Course + Internship   \n",
       "..                     ...                                     ...   \n",
       "26                Beginner                             Only Course   \n",
       "99            Intermediate               Course + Capstone Project   \n",
       "51                Beginner  Course + Capstone Project + Internship   \n",
       "17                Beginner                     Course + Internship   \n",
       "72            Intermediate  Course + Capstone Project + Internship   \n",
       "\n",
       "        Preferred Certification Type Preferred Mentorship/ 1:1 Interaction  \\\n",
       "17     Certified Professional Course                                   Yes   \n",
       "44     Certified Professional Course                                   Yes   \n",
       "100    Certified Professional Course                                   Yes   \n",
       "17     Certified Professional Course                                   Yes   \n",
       "30     Certified Professional Course                                   Yes   \n",
       "..                               ...                                   ...   \n",
       "26   Course Completion Certification                                    No   \n",
       "99     Certified Professional Course                                    No   \n",
       "51     Certified Professional Course                                   Yes   \n",
       "17     Certified Professional Course                                   Yes   \n",
       "72     Certified Professional Course                                   Yes   \n",
       "\n",
       "    Preferred Validity of Course Content Preferred Course Training Type  \\\n",
       "17                              Lifetime                Live + Recorded   \n",
       "44                          Limited Time                Live + Recorded   \n",
       "100                             Lifetime                Live + Recorded   \n",
       "17                              Lifetime                Live + Recorded   \n",
       "30                              Lifetime                Live + Recorded   \n",
       "..                                   ...                            ...   \n",
       "26                          Limited Time                       Recorded   \n",
       "99                              Lifetime                       Recorded   \n",
       "51                              Lifetime                           Live   \n",
       "17                              Lifetime                Live + Recorded   \n",
       "72                              Lifetime                Live + Recorded   \n",
       "\n",
       "      Which type of courses do you like?  \n",
       "17   Paid course with free demo sessions  \n",
       "44   Paid course with free demo sessions  \n",
       "100  Paid course with free demo sessions  \n",
       "17   Paid course with free demo sessions  \n",
       "30   Paid course with free demo sessions  \n",
       "..                                   ...  \n",
       "26   Paid course with free demo sessions  \n",
       "99   Paid course with free demo sessions  \n",
       "51   Paid course with free demo sessions  \n",
       "17   Paid course with free demo sessions  \n",
       "72   Paid course with free demo sessions  \n",
       "\n",
       "[300 rows x 10 columns]"
      ]
     },
     "execution_count": 11,
     "metadata": {},
     "output_type": "execute_result"
    }
   ],
   "source": [
    "X"
   ]
  },
  {
   "cell_type": "code",
   "execution_count": 12,
   "id": "0b754d75",
   "metadata": {},
   "outputs": [
    {
     "data": {
      "text/plain": [
       "17           10000+\n",
       "44      500 to 1500\n",
       "100    1500 to 3000\n",
       "17           10000+\n",
       "30      500 to 1500\n",
       "           ...     \n",
       "26           10000+\n",
       "99            < 500\n",
       "51      500 to 1500\n",
       "17           10000+\n",
       "72            < 500\n",
       "Name: Preferred Price (in Rs), Length: 300, dtype: object"
      ]
     },
     "execution_count": 12,
     "metadata": {},
     "output_type": "execute_result"
    }
   ],
   "source": [
    "y"
   ]
  },
  {
   "cell_type": "code",
   "execution_count": 13,
   "id": "dcad7aaf",
   "metadata": {},
   "outputs": [
    {
     "data": {
      "text/plain": [
       "(300, 69)"
      ]
     },
     "execution_count": 13,
     "metadata": {},
     "output_type": "execute_result"
    }
   ],
   "source": [
    "X_1 = pd.get_dummies(X)\n",
    "X_1.shape"
   ]
  },
  {
   "cell_type": "code",
   "execution_count": 14,
   "id": "7f0bbaf0",
   "metadata": {},
   "outputs": [
    {
     "data": {
      "text/plain": [
       "((240, 69), (60, 69), (240,), (60,))"
      ]
     },
     "execution_count": 14,
     "metadata": {},
     "output_type": "execute_result"
    }
   ],
   "source": [
    "from sklearn.model_selection import train_test_split\n",
    "\n",
    "X_train, X_test, y_train, y_test = train_test_split(X_1, y, test_size=0.20, random_state = 10)\n",
    "\n",
    "X_train.shape,X_test.shape,y_train.shape,y_test.shape"
   ]
  },
  {
   "cell_type": "markdown",
   "id": "f287c6ca",
   "metadata": {},
   "source": [
    "## ML Model 1: Logistic Regression"
   ]
  },
  {
   "cell_type": "code",
   "execution_count": 15,
   "id": "020ba576",
   "metadata": {},
   "outputs": [
    {
     "name": "stdout",
     "output_type": "stream",
     "text": [
      "Confusion matrix:\n",
      "\n",
      "\n",
      "[[13  0  0  0  0  0]\n",
      " [ 0  9  0  0  0  0]\n",
      " [ 0  0  9  0  0  0]\n",
      " [ 0  1  2  6  0  0]\n",
      " [ 0  0  0  0 10  0]\n",
      " [ 0  1  1  1  0  7]]\n",
      "-------------------------------------------\n",
      "\n",
      "\n",
      "Accuracy of Logistic Regression: 90.0 \n",
      "\n",
      "-------------------------------------------\n",
      "\n",
      "\n",
      "               precision    recall  f1-score   support\n",
      "\n",
      "       10000+       1.00      1.00      1.00        13\n",
      " 1500 to 3000       0.82      1.00      0.90         9\n",
      " 3000 to 5000       0.75      1.00      0.86         9\n",
      "  500 to 1500       0.86      0.67      0.75         9\n",
      "5000 to 10000       1.00      1.00      1.00        10\n",
      "        < 500       1.00      0.70      0.82        10\n",
      "\n",
      "     accuracy                           0.90        60\n",
      "    macro avg       0.90      0.89      0.89        60\n",
      " weighted avg       0.91      0.90      0.90        60\n",
      "\n"
     ]
    }
   ],
   "source": [
    "from sklearn.linear_model import LogisticRegression\n",
    "from sklearn.metrics import confusion_matrix, accuracy_score,roc_curve,roc_auc_score\n",
    "from sklearn.metrics import classification_report\n",
    "\n",
    "lr = LogisticRegression()\n",
    "lr.fit(X_train, y_train)\n",
    "lr_predict = lr.predict(X_test)\n",
    "lr_conf_matrix = confusion_matrix(y_test, lr_predict)\n",
    "lr_acc_score = accuracy_score(y_test, lr_predict)\n",
    "print(\"Confusion matrix:\")\n",
    "print(\"\\n\")\n",
    "print(lr_conf_matrix)\n",
    "print(\"-------------------------------------------\")\n",
    "print(\"\\n\")\n",
    "print(\"Accuracy of Logistic Regression:\",lr_acc_score*100,'\\n')\n",
    "print(\"-------------------------------------------\")\n",
    "print(\"\\n\")\n",
    "print(classification_report(y_test,lr_predict))"
   ]
  },
  {
   "cell_type": "markdown",
   "id": "998cfbc4",
   "metadata": {},
   "source": [
    "## ML Model 2: Decision Tree"
   ]
  },
  {
   "cell_type": "code",
   "execution_count": 16,
   "id": "b52b1d94",
   "metadata": {},
   "outputs": [],
   "source": [
    "from sklearn.tree import DecisionTreeClassifier\n",
    "\n",
    "tree_mob=DecisionTreeClassifier()\n",
    "\n",
    "tree_mob=tree_mob.fit(X_train,y_train)"
   ]
  },
  {
   "cell_type": "code",
   "execution_count": 17,
   "id": "8a5d7888",
   "metadata": {},
   "outputs": [
    {
     "data": {
      "text/plain": [
       "array(['10000+', '5000 to 10000', '5000 to 10000', '1500 to 3000',\n",
       "       '3000 to 5000', '5000 to 10000', '500 to 1500', '< 500',\n",
       "       '1500 to 3000', '< 500', '10000+', '10000+', '3000 to 5000',\n",
       "       '1500 to 3000', '3000 to 5000', '< 500', '1500 to 3000', '10000+',\n",
       "       '3000 to 5000', '500 to 1500', '1500 to 3000', '5000 to 10000',\n",
       "       '< 500', '5000 to 10000', '< 500', '10000+', '5000 to 10000',\n",
       "       '1500 to 3000', '10000+', '< 500', '1500 to 3000', '5000 to 10000',\n",
       "       '500 to 1500', '< 500', '5000 to 10000', '10000+', '500 to 1500',\n",
       "       '500 to 1500', '10000+', '3000 to 5000', '3000 to 5000',\n",
       "       '3000 to 5000', '< 500', '1500 to 3000', '5000 to 10000', '10000+',\n",
       "       '500 to 1500', '1500 to 3000', '1500 to 3000', '< 500', '10000+',\n",
       "       '10000+', '5000 to 10000', '3000 to 5000', '500 to 1500', '< 500',\n",
       "       '10000+', '10000+', '3000 to 5000', '1500 to 3000'], dtype=object)"
      ]
     },
     "execution_count": 17,
     "metadata": {},
     "output_type": "execute_result"
    }
   ],
   "source": [
    "#Prediction of values using Decision Tree\n",
    "\n",
    "y_pred=tree_mob.predict(X_test)\n",
    "\n",
    "y_pred"
   ]
  },
  {
   "cell_type": "code",
   "execution_count": 18,
   "id": "817e73d1",
   "metadata": {},
   "outputs": [
    {
     "name": "stdout",
     "output_type": "stream",
     "text": [
      " The classification report of Decision Tree:\n",
      "                precision    recall  f1-score   support\n",
      "\n",
      "       10000+       1.00      1.00      1.00        13\n",
      " 1500 to 3000       0.82      1.00      0.90         9\n",
      " 3000 to 5000       1.00      1.00      1.00         9\n",
      "  500 to 1500       1.00      0.78      0.88         9\n",
      "5000 to 10000       1.00      1.00      1.00        10\n",
      "        < 500       0.90      0.90      0.90        10\n",
      "\n",
      "     accuracy                           0.95        60\n",
      "    macro avg       0.95      0.95      0.95        60\n",
      " weighted avg       0.96      0.95      0.95        60\n",
      "\n",
      "-------------------------------------------\n",
      "\n",
      "\n",
      " The accuracy of the model is:  95.0 \n",
      "\n"
     ]
    }
   ],
   "source": [
    "tree_mob_report=classification_report(y_test,y_pred)\n",
    "tree_mob_acc_score = accuracy_score(y_test, y_pred)\n",
    "\n",
    "print(' The classification report of Decision Tree:\\n',tree_mob_report)\n",
    "print(\"-------------------------------------------\")\n",
    "print(\"\\n\")\n",
    "print(' The accuracy of the model is: ',tree_mob_acc_score*100,'\\n')"
   ]
  },
  {
   "cell_type": "markdown",
   "id": "ec7d359a",
   "metadata": {},
   "source": [
    "## ML Model 3: Random Forest"
   ]
  },
  {
   "cell_type": "code",
   "execution_count": 19,
   "id": "e6f647ea",
   "metadata": {},
   "outputs": [
    {
     "data": {
      "text/plain": [
       "GridSearchCV(estimator=RandomForestClassifier(random_state=10),\n",
       "             param_grid={'criterion': ['gini'], 'max_depth': range(3, 12),\n",
       "                         'n_estimators': range(105, 110)})"
      ]
     },
     "execution_count": 19,
     "metadata": {},
     "output_type": "execute_result"
    }
   ],
   "source": [
    "from sklearn.model_selection import GridSearchCV\n",
    "from sklearn.ensemble import RandomForestClassifier\n",
    "from sklearn.metrics import classification_report, confusion_matrix,roc_auc_score\n",
    "\n",
    "rf=RandomForestClassifier(random_state=10)\n",
    "\n",
    "rf_gs=GridSearchCV(rf,{'n_estimators':range(105,110),'criterion':['gini'],'max_depth':range(3,12)})\n",
    "\n",
    "rf_gs.fit(X_train, y_train)"
   ]
  },
  {
   "cell_type": "code",
   "execution_count": 20,
   "id": "08073bb6",
   "metadata": {},
   "outputs": [
    {
     "name": "stdout",
     "output_type": "stream",
     "text": [
      " RF- New Classification report:\n",
      "                precision    recall  f1-score   support\n",
      "\n",
      "       10000+       1.00      1.00      1.00        13\n",
      " 1500 to 3000       0.82      1.00      0.90         9\n",
      " 3000 to 5000       0.90      1.00      0.95         9\n",
      "  500 to 1500       1.00      0.67      0.80         9\n",
      "5000 to 10000       1.00      1.00      1.00        10\n",
      "        < 500       0.90      0.90      0.90        10\n",
      "\n",
      "     accuracy                           0.93        60\n",
      "    macro avg       0.94      0.93      0.92        60\n",
      " weighted avg       0.94      0.93      0.93        60\n",
      "\n",
      " RF - New Confusion Matrix:\n",
      " [[13  0  0  0  0  0]\n",
      " [ 0  9  0  0  0  0]\n",
      " [ 0  0  9  0  0  0]\n",
      " [ 0  1  1  6  0  1]\n",
      " [ 0  0  0  0 10  0]\n",
      " [ 0  1  0  0  0  9]]\n",
      "-------------------------------------------\n",
      "\n",
      "\n",
      "Accuracy of Random Forest Classifier after Grid Search CV: 93.33333333333333 \n",
      "\n",
      "-------------------------------------------\n"
     ]
    }
   ],
   "source": [
    "rf_report=classification_report(y_test,rf_gs.predict(X_test))\n",
    "\n",
    "rf_cm=confusion_matrix(y_test,rf_gs.predict(X_test))\n",
    "\n",
    "rf_acc_score = accuracy_score(y_test, rf_gs.predict(X_test))\n",
    "\n",
    "print(' RF- New Classification report:\\n',rf_report)\n",
    "print(' RF - New Confusion Matrix:\\n', rf_cm)\n",
    "print(\"-------------------------------------------\")\n",
    "print(\"\\n\")\n",
    "print(\"Accuracy of Random Forest Classifier after Grid Search CV:\",rf_acc_score*100,'\\n')\n",
    "print(\"-------------------------------------------\")"
   ]
  },
  {
   "cell_type": "code",
   "execution_count": 21,
   "id": "aaef39ea",
   "metadata": {},
   "outputs": [
    {
     "data": {
      "text/html": [
       "<div>\n",
       "<style scoped>\n",
       "    .dataframe tbody tr th:only-of-type {\n",
       "        vertical-align: middle;\n",
       "    }\n",
       "\n",
       "    .dataframe tbody tr th {\n",
       "        vertical-align: top;\n",
       "    }\n",
       "\n",
       "    .dataframe thead th {\n",
       "        text-align: right;\n",
       "    }\n",
       "</style>\n",
       "<table border=\"1\" class=\"dataframe\">\n",
       "  <thead>\n",
       "    <tr style=\"text-align: right;\">\n",
       "      <th></th>\n",
       "      <th>Feature</th>\n",
       "      <th>Importance</th>\n",
       "    </tr>\n",
       "  </thead>\n",
       "  <tbody>\n",
       "    <tr>\n",
       "      <th>50</th>\n",
       "      <td>Preferred Course Level_Advanced</td>\n",
       "      <td>7.629537</td>\n",
       "    </tr>\n",
       "    <tr>\n",
       "      <th>39</th>\n",
       "      <td>Reason for taking an online course_Placement</td>\n",
       "      <td>7.435414</td>\n",
       "    </tr>\n",
       "    <tr>\n",
       "      <th>56</th>\n",
       "      <td>Preferred Course Type_Guided Project</td>\n",
       "      <td>5.134786</td>\n",
       "    </tr>\n",
       "    <tr>\n",
       "      <th>52</th>\n",
       "      <td>Preferred Course Level_Intermediate</td>\n",
       "      <td>4.828358</td>\n",
       "    </tr>\n",
       "    <tr>\n",
       "      <th>51</th>\n",
       "      <td>Preferred Course Level_Beginner</td>\n",
       "      <td>4.705970</td>\n",
       "    </tr>\n",
       "    <tr>\n",
       "      <th>...</th>\n",
       "      <td>...</td>\n",
       "      <td>...</td>\n",
       "    </tr>\n",
       "    <tr>\n",
       "      <th>10</th>\n",
       "      <td>Reason for taking an online course_Certificate...</td>\n",
       "      <td>0.049442</td>\n",
       "    </tr>\n",
       "    <tr>\n",
       "      <th>0</th>\n",
       "      <td>Reason for taking an online course_CV Point</td>\n",
       "      <td>0.048543</td>\n",
       "    </tr>\n",
       "    <tr>\n",
       "      <th>12</th>\n",
       "      <td>Reason for taking an online course_Certificate...</td>\n",
       "      <td>0.000000</td>\n",
       "    </tr>\n",
       "    <tr>\n",
       "      <th>4</th>\n",
       "      <td>Reason for taking an online course_CV Point, N...</td>\n",
       "      <td>0.000000</td>\n",
       "    </tr>\n",
       "    <tr>\n",
       "      <th>29</th>\n",
       "      <td>Reason for taking an online course_Certificate...</td>\n",
       "      <td>0.000000</td>\n",
       "    </tr>\n",
       "  </tbody>\n",
       "</table>\n",
       "<p>69 rows × 2 columns</p>\n",
       "</div>"
      ],
      "text/plain": [
       "                                              Feature  Importance\n",
       "50                    Preferred Course Level_Advanced    7.629537\n",
       "39       Reason for taking an online course_Placement    7.435414\n",
       "56               Preferred Course Type_Guided Project    5.134786\n",
       "52                Preferred Course Level_Intermediate    4.828358\n",
       "51                    Preferred Course Level_Beginner    4.705970\n",
       "..                                                ...         ...\n",
       "10  Reason for taking an online course_Certificate...    0.049442\n",
       "0         Reason for taking an online course_CV Point    0.048543\n",
       "12  Reason for taking an online course_Certificate...    0.000000\n",
       "4   Reason for taking an online course_CV Point, N...    0.000000\n",
       "29  Reason for taking an online course_Certificate...    0.000000\n",
       "\n",
       "[69 rows x 2 columns]"
      ]
     },
     "execution_count": 21,
     "metadata": {},
     "output_type": "execute_result"
    }
   ],
   "source": [
    "# Sort the values of importance\n",
    "\n",
    "imp_feature=pd.DataFrame({'Feature':X_train.columns, 'Importance':rf_gs.best_estimator_.feature_importances_*100})\n",
    "\n",
    "feature_rank=imp_feature.sort_values('Importance',ascending=False)\n",
    "feature_rank"
   ]
  },
  {
   "cell_type": "code",
   "execution_count": 22,
   "id": "b2179d31",
   "metadata": {},
   "outputs": [
    {
     "data": {
      "text/html": [
       "<div>\n",
       "<style scoped>\n",
       "    .dataframe tbody tr th:only-of-type {\n",
       "        vertical-align: middle;\n",
       "    }\n",
       "\n",
       "    .dataframe tbody tr th {\n",
       "        vertical-align: top;\n",
       "    }\n",
       "\n",
       "    .dataframe thead th {\n",
       "        text-align: right;\n",
       "    }\n",
       "</style>\n",
       "<table border=\"1\" class=\"dataframe\">\n",
       "  <thead>\n",
       "    <tr style=\"text-align: right;\">\n",
       "      <th></th>\n",
       "      <th>Feature</th>\n",
       "      <th>Importance</th>\n",
       "    </tr>\n",
       "  </thead>\n",
       "  <tbody>\n",
       "    <tr>\n",
       "      <th>50</th>\n",
       "      <td>Preferred Course Level_Advanced</td>\n",
       "      <td>7.629537</td>\n",
       "    </tr>\n",
       "    <tr>\n",
       "      <th>39</th>\n",
       "      <td>Reason for taking an online course_Placement</td>\n",
       "      <td>7.435414</td>\n",
       "    </tr>\n",
       "    <tr>\n",
       "      <th>56</th>\n",
       "      <td>Preferred Course Type_Guided Project</td>\n",
       "      <td>5.134786</td>\n",
       "    </tr>\n",
       "    <tr>\n",
       "      <th>52</th>\n",
       "      <td>Preferred Course Level_Intermediate</td>\n",
       "      <td>4.828358</td>\n",
       "    </tr>\n",
       "    <tr>\n",
       "      <th>51</th>\n",
       "      <td>Preferred Course Level_Beginner</td>\n",
       "      <td>4.705970</td>\n",
       "    </tr>\n",
       "    <tr>\n",
       "      <th>47</th>\n",
       "      <td>Preferred Course Duration (in hours)_35+ hours</td>\n",
       "      <td>4.683983</td>\n",
       "    </tr>\n",
       "    <tr>\n",
       "      <th>43</th>\n",
       "      <td>Preferred Mode of Course_Offline</td>\n",
       "      <td>4.070663</td>\n",
       "    </tr>\n",
       "    <tr>\n",
       "      <th>54</th>\n",
       "      <td>Preferred Course Type_Course + Capstone Projec...</td>\n",
       "      <td>3.942793</td>\n",
       "    </tr>\n",
       "    <tr>\n",
       "      <th>45</th>\n",
       "      <td>Preferred Course Duration (in hours)_16 to 25 ...</td>\n",
       "      <td>3.808643</td>\n",
       "    </tr>\n",
       "    <tr>\n",
       "      <th>48</th>\n",
       "      <td>Preferred Course Duration (in hours)_6 to 15 h...</td>\n",
       "      <td>3.229868</td>\n",
       "    </tr>\n",
       "    <tr>\n",
       "      <th>63</th>\n",
       "      <td>Preferred Validity of Course Content_Limited Time</td>\n",
       "      <td>2.719592</td>\n",
       "    </tr>\n",
       "    <tr>\n",
       "      <th>49</th>\n",
       "      <td>Preferred Course Duration (in hours)_&lt; 5 hours</td>\n",
       "      <td>2.665859</td>\n",
       "    </tr>\n",
       "    <tr>\n",
       "      <th>44</th>\n",
       "      <td>Preferred Mode of Course_Online</td>\n",
       "      <td>2.581554</td>\n",
       "    </tr>\n",
       "    <tr>\n",
       "      <th>66</th>\n",
       "      <td>Preferred Course Training Type_Recorded</td>\n",
       "      <td>2.527094</td>\n",
       "    </tr>\n",
       "  </tbody>\n",
       "</table>\n",
       "</div>"
      ],
      "text/plain": [
       "                                              Feature  Importance\n",
       "50                    Preferred Course Level_Advanced    7.629537\n",
       "39       Reason for taking an online course_Placement    7.435414\n",
       "56               Preferred Course Type_Guided Project    5.134786\n",
       "52                Preferred Course Level_Intermediate    4.828358\n",
       "51                    Preferred Course Level_Beginner    4.705970\n",
       "47     Preferred Course Duration (in hours)_35+ hours    4.683983\n",
       "43                   Preferred Mode of Course_Offline    4.070663\n",
       "54  Preferred Course Type_Course + Capstone Projec...    3.942793\n",
       "45  Preferred Course Duration (in hours)_16 to 25 ...    3.808643\n",
       "48  Preferred Course Duration (in hours)_6 to 15 h...    3.229868\n",
       "63  Preferred Validity of Course Content_Limited Time    2.719592\n",
       "49     Preferred Course Duration (in hours)_< 5 hours    2.665859\n",
       "44                    Preferred Mode of Course_Online    2.581554\n",
       "66            Preferred Course Training Type_Recorded    2.527094"
      ]
     },
     "execution_count": 22,
     "metadata": {},
     "output_type": "execute_result"
    }
   ],
   "source": [
    "# Features to focus more\n",
    "\n",
    "feature_rank[feature_rank['Importance']>2.5]"
   ]
  },
  {
   "cell_type": "markdown",
   "id": "f89e4a6e",
   "metadata": {},
   "source": [
    "## Thank You :)"
   ]
  },
  {
   "cell_type": "code",
   "execution_count": null,
   "id": "0866a0fc",
   "metadata": {},
   "outputs": [],
   "source": []
  }
 ],
 "metadata": {
  "kernelspec": {
   "display_name": "Python 3",
   "language": "python",
   "name": "python3"
  },
  "language_info": {
   "codemirror_mode": {
    "name": "ipython",
    "version": 3
   },
   "file_extension": ".py",
   "mimetype": "text/x-python",
   "name": "python",
   "nbconvert_exporter": "python",
   "pygments_lexer": "ipython3",
   "version": "3.8.8"
  }
 },
 "nbformat": 4,
 "nbformat_minor": 5
}
